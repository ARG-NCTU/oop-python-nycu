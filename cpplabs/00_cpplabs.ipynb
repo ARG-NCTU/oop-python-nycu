{
 "cells": [
  {
   "cell_type": "code",
   "execution_count": null,
   "metadata": {},
   "outputs": [],
   "source": [
    "# default_exp cpplabs"
   ]
  },
  {
   "cell_type": "markdown",
   "metadata": {},
   "source": [
    "# cpplabs \n",
    "\n",
    "> API details."
   ]
  },
  {
   "cell_type": "code",
   "execution_count": 1,
   "metadata": {},
   "outputs": [],
   "source": [
    "#hide\n",
    "from nbdev.showdoc import *"
   ]
  },
  {
   "cell_type": "markdown",
   "metadata": {},
   "source": [
    "## Compile and Install lib_geometry"
   ]
  },
  {
   "cell_type": "code",
   "execution_count": 2,
   "metadata": {},
   "outputs": [
    {
     "name": "stdout",
     "output_type": "stream",
     "text": [
      "make -C lib_geometry\n",
      "make[1]: Entering directory '/home/arg/oop-python-nycu/cpplabs/lib_geometry'\n",
      "make[1]: 'libcpplabs_geometry.a' is up to date.\n",
      "make[1]: Leaving directory '/home/arg/oop-python-nycu/cpplabs/lib_geometry'\n",
      "make -C lab05\n",
      "make[1]: Entering directory '/home/arg/oop-python-nycu/cpplabs/lab05'\n",
      "g++ -o rand_vertices.out rand_vertices.cpp\n",
      "g++ -o rand_vertices_file.out rand_vertices_file.cpp\n",
      "g++ -o rand_vertices_sleep.out  \\\n",
      "\trand_vertices_sleep.cpp\n",
      "g++ -o rand_vertices_seed.out \\\n",
      "\trand_vertices_seed.cpp\n",
      "g++ -I../lib_geometry -L../lib_geometry \\\n",
      "\t-o rand_vertices_class.out \\\n",
      "\trand_vertices_class.cpp -lcpplabs_geometry\n",
      "g++ -I../lib_geometry -L../lib_geometry -o rand_seglist.out \\\n",
      "\trand_seglist.cpp -lcpplabs_geometry\n",
      "make[1]: Leaving directory '/home/arg/oop-python-nycu/cpplabs/lab05'\n",
      "make -C pybind11\n",
      "make[1]: Entering directory '/home/arg/oop-python-nycu/cpplabs/pybind11'\n",
      "mkdir build; cd build; cmake ..; make; make install\n",
      "mkdir: cannot create directory ‘build’: File exists\n",
      "-- Configuring done\n",
      "-- Generating done\n",
      "-- Build files have been written to: /home/arg/oop-python-nycu/cpplabs/pybind11/build\n",
      "make[2]: Entering directory '/home/arg/oop-python-nycu/cpplabs/pybind11/build'\n",
      "make[3]: Entering directory '/home/arg/oop-python-nycu/cpplabs/pybind11/build'\n",
      "make[4]: Entering directory '/home/arg/oop-python-nycu/cpplabs/pybind11/build'\n",
      "make[4]: Leaving directory '/home/arg/oop-python-nycu/cpplabs/pybind11/build'\n",
      "[100%] Built target cpplabs\n",
      "make[3]: Leaving directory '/home/arg/oop-python-nycu/cpplabs/pybind11/build'\n",
      "make[2]: Leaving directory '/home/arg/oop-python-nycu/cpplabs/pybind11/build'\n",
      "make[2]: Entering directory '/home/arg/oop-python-nycu/cpplabs/pybind11/build'\n",
      "make[3]: Entering directory '/home/arg/oop-python-nycu/cpplabs/pybind11/build'\n",
      "make[4]: Entering directory '/home/arg/oop-python-nycu/cpplabs/pybind11/build'\n",
      "make[4]: Leaving directory '/home/arg/oop-python-nycu/cpplabs/pybind11/build'\n",
      "[100%] Built target cpplabs\n",
      "make[3]: Leaving directory '/home/arg/oop-python-nycu/cpplabs/pybind11/build'\n",
      "\u001b[36mInstall the project...\u001b[0m\n",
      "-- Install configuration: \"Release\"\n",
      "-- Installing: /usr/lib/python3/dist-packages/cpplabs.cpython-38-x86_64-linux-gnu.so\n",
      "make[2]: Leaving directory '/home/arg/oop-python-nycu/cpplabs/pybind11/build'\n",
      "make[1]: Leaving directory '/home/arg/oop-python-nycu/cpplabs/pybind11'\n",
      "python3 pytest/test_plus.py\n",
      "pybind11 for cpp labs\n",
      "== Test package and local function. ==\n",
      "C++ result x plus y is: 3\n",
      "Python result x plus y is:  3\n",
      "== Test VertexSimple ==\n",
      "x=3,y=6\n",
      "== Test Vertex ==\n",
      "x=0,y=0\n",
      "x=5,y=10\n",
      "x=17,y=15\n",
      "x=13,y=25\n",
      "getX: 10, getY: 20\n",
      "== Test SegList ==\n",
      "x=3,y=5,x=6,y=9,x=5,y=10,x=17,y=15,x=13,y=25,x=10,y=20\n"
     ]
    }
   ],
   "source": [
    "! cd ~/oop-python-nycu/cpplabs && make"
   ]
  },
  {
   "cell_type": "markdown",
   "metadata": {},
   "source": [
    "## Run python library in Jupyter Notebook"
   ]
  },
  {
   "cell_type": "code",
   "execution_count": 3,
   "metadata": {},
   "outputs": [],
   "source": [
    "import cpplabs"
   ]
  },
  {
   "cell_type": "code",
   "execution_count": 4,
   "metadata": {},
   "outputs": [
    {
     "name": "stdout",
     "output_type": "stream",
     "text": [
      "pybind11 for cpp labs\n"
     ]
    }
   ],
   "source": [
    "print(cpplabs.__doc__)"
   ]
  },
  {
   "cell_type": "markdown",
   "metadata": {},
   "source": [
    "## local function"
   ]
  },
  {
   "cell_type": "code",
   "execution_count": 5,
   "metadata": {},
   "outputs": [],
   "source": [
    "result = cpplabs.python_test_plus(1, 2) \n",
    "assert result == 3"
   ]
  },
  {
   "cell_type": "markdown",
   "metadata": {},
   "source": [
    "## VertexSimple"
   ]
  },
  {
   "cell_type": "code",
   "execution_count": 6,
   "metadata": {},
   "outputs": [
    {
     "name": "stdout",
     "output_type": "stream",
     "text": [
      "x=2,y=7\n"
     ]
    }
   ],
   "source": [
    "py_vertex_simple = cpplabs.VertexSimple()\n",
    "py_vertex_simple.setRandom(0, 10)\n",
    "print(py_vertex_simple.getSpec())  "
   ]
  },
  {
   "cell_type": "markdown",
   "metadata": {},
   "source": [
    "## Vertex"
   ]
  },
  {
   "cell_type": "code",
   "execution_count": 7,
   "metadata": {},
   "outputs": [
    {
     "name": "stdout",
     "output_type": "stream",
     "text": [
      "x=0,y=0\n",
      "x=5,y=10\n",
      "x=10,y=19\n",
      "x=13,y=26\n",
      "getX: 10, getY: 20\n"
     ]
    }
   ],
   "source": [
    "py_vertex = cpplabs.Vertex()\n",
    "print(py_vertex.getSpec())\n",
    "py_v2 = cpplabs.Vertex(5, 10)\n",
    "print(py_v2.getSpec())\n",
    "py_v3 = cpplabs.Vertex()\n",
    "py_v3.setRandom(10, 20)\n",
    "print(py_v3.getSpec())\n",
    "py_v4 = cpplabs.Vertex()\n",
    "py_v4.setRandom(10, 20, 20, 30)\n",
    "print(py_v4.getSpec())\n",
    "py_v5 = cpplabs.Vertex()\n",
    "py_v5.setXY(10, 20)\n",
    "print(\"getX: {}, getY: {}\".format(py_v5.getX(), py_v5.getY()))"
   ]
  },
  {
   "cell_type": "markdown",
   "metadata": {},
   "source": [
    "## SegList"
   ]
  },
  {
   "cell_type": "code",
   "execution_count": 8,
   "metadata": {},
   "outputs": [
    {
     "name": "stdout",
     "output_type": "stream",
     "text": [
      "x=3,y=5,x=6,y=9,x=5,y=10,x=10,y=19,x=13,y=26,x=10,y=20\n"
     ]
    }
   ],
   "source": [
    "py_seglist = cpplabs.SegList()\n",
    "py_seglist.addVertex(3.0, 5.0)\n",
    "py_seglist.addVertex(6.0, 9.0)\n",
    "py_seglist.addVertex(py_v2)\n",
    "py_seglist.addVertex(py_v3)\n",
    "py_seglist.addVertex(py_v4)\n",
    "py_seglist.addVertex(py_v5)\n",
    "print(py_seglist.getSpec())"
   ]
  },
  {
   "cell_type": "code",
   "execution_count": null,
   "metadata": {},
   "outputs": [],
   "source": []
  }
 ],
 "metadata": {
  "kernelspec": {
   "display_name": "Python 3 (ipykernel)",
   "language": "python",
   "name": "python3"
  },
  "language_info": {
   "codemirror_mode": {
    "name": "ipython",
    "version": 3
   },
   "file_extension": ".py",
   "mimetype": "text/x-python",
   "name": "python",
   "nbconvert_exporter": "python",
   "pygments_lexer": "ipython3",
   "version": "3.8.10"
  }
 },
 "nbformat": 4,
 "nbformat_minor": 2
}
