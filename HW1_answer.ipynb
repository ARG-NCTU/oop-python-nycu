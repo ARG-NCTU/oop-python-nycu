{
 "cells": [
  {
   "cell_type": "markdown",
   "id": "06caeefe",
   "metadata": {
    "deletable": false,
    "editable": false,
    "id": "06caeefe",
    "nbgrader": {
     "cell_type": "markdown",
     "checksum": "ab46e0fe8f0bfced76dea1cfdf44b394",
     "grade": false,
     "grade_id": "intro",
     "locked": true,
     "schema_version": 3,
     "solution": false,
     "task": false
    }
   },
   "source": [
    "# OOP Python HW1"
   ]
  },
  {
   "cell_type": "markdown",
   "id": "nOg5OsyIaKRU",
   "metadata": {
    "deletable": false,
    "editable": false,
    "id": "nOg5OsyIaKRU",
    "nbgrader": {
     "cell_type": "markdown",
     "checksum": "b301327149e23fd237b36712c994b9f9",
     "grade": false,
     "grade_id": "cell-60d7511f1c3b376d",
     "locked": true,
     "schema_version": 3,
     "solution": false,
     "task": false
    }
   },
   "source": [
    "## Tuple"
   ]
  },
  {
   "cell_type": "markdown",
   "id": "xpd_roE0U1BA",
   "metadata": {
    "deletable": false,
    "editable": false,
    "id": "xpd_roE0U1BA",
    "nbgrader": {
     "cell_type": "markdown",
     "checksum": "96d011ccb71df7ca2e99cc900fa9d9b3",
     "grade": false,
     "grade_id": "cell-4bee5bd30099fd52",
     "locked": true,
     "schema_version": 3,
     "solution": false,
     "task": false
    }
   },
   "source": [
    "### Exercise 1:(3points)\n",
    "Design a program that takes in an tuple with an unspecified number of elements and returns a new tuple containing all the non-negative integers in the original tuple."
   ]
  },
  {
   "cell_type": "code",
   "execution_count": null,
   "id": "PrAxXu-8VSPh",
   "metadata": {
    "deletable": false,
    "id": "PrAxXu-8VSPh",
    "nbgrader": {
     "cell_type": "code",
     "checksum": "4b3ff98b42cdf1ce2a261983f355af36",
     "grade": false,
     "grade_id": "cell-be53c8a5b8ea475c",
     "locked": false,
     "schema_version": 3,
     "solution": true,
     "task": false
    }
   },
   "outputs": [],
   "source": [
    "def remove_negatives(numbers):\n",
    "    positive_numbers = []\n",
    "    # YOUR CODE HERE\n",
    "    raise NotImplementedError()\n",
    "    return tuple(positive_numbers)"
   ]
  },
  {
   "cell_type": "code",
   "execution_count": null,
   "id": "WWQaEPvEVSHq",
   "metadata": {
    "deletable": false,
    "editable": false,
    "id": "WWQaEPvEVSHq",
    "nbgrader": {
     "cell_type": "code",
     "checksum": "89dfbcf766891bb092f36b4ca2521ce5",
     "grade": true,
     "grade_id": "cell-3395438d2013d0f4",
     "locked": true,
     "points": 3,
     "schema_version": 3,
     "solution": false,
     "task": false
    }
   },
   "outputs": [],
   "source": [
    "assert remove_negatives((-3, -2, 4, -5, 6, -7)) == (4, 6)"
   ]
  },
  {
   "cell_type": "markdown",
   "id": "2Mg9PB_WaEMN",
   "metadata": {
    "deletable": false,
    "editable": false,
    "id": "2Mg9PB_WaEMN",
    "nbgrader": {
     "cell_type": "markdown",
     "checksum": "cc22caeafb0131f251a66d98148d53f5",
     "grade": false,
     "grade_id": "cell-37e30fbed93261fc",
     "locked": true,
     "schema_version": 3,
     "solution": false,
     "task": false
    }
   },
   "source": [
    "## List"
   ]
  },
  {
   "cell_type": "markdown",
   "id": "m8Q3XSwmVZ9b",
   "metadata": {
    "deletable": false,
    "editable": false,
    "id": "m8Q3XSwmVZ9b",
    "nbgrader": {
     "cell_type": "markdown",
     "checksum": "8f2908fa6075b0b82cce257ac7a94214",
     "grade": false,
     "grade_id": "cell-c38573d60bc3c775",
     "locked": true,
     "schema_version": 3,
     "solution": false,
     "task": false
    }
   },
   "source": [
    "### Exercise 2:(3points)\n",
    "Design a program that takes in a list of strings and returns a new list containing only the strings that are palindromes (i.e., strings that read the same forwards and backwards)."
   ]
  },
  {
   "cell_type": "code",
   "execution_count": null,
   "id": "PAoNZfTaVmfH",
   "metadata": {
    "deletable": false,
    "id": "PAoNZfTaVmfH",
    "nbgrader": {
     "cell_type": "code",
     "checksum": "bc6a2694d1835ba9d743e7194bbdb8e6",
     "grade": false,
     "grade_id": "cell-58d938cceecd67c3",
     "locked": false,
     "schema_version": 3,
     "solution": true,
     "task": false
    }
   },
   "outputs": [],
   "source": [
    "def palindrome_strings(strings):\n",
    "    palindromes = []\n",
    "    # YOUR CODE HERE\n",
    "    raise NotImplementedError()\n",
    "    return palindromes"
   ]
  },
  {
   "cell_type": "code",
   "execution_count": null,
   "id": "3D9IW0mRVmX5",
   "metadata": {
    "deletable": false,
    "editable": false,
    "id": "3D9IW0mRVmX5",
    "nbgrader": {
     "cell_type": "code",
     "checksum": "a03502d2bded5c28ff4f6e1e71a39ed5",
     "grade": true,
     "grade_id": "cell-6bac401988fcb2bb",
     "locked": true,
     "points": 3,
     "schema_version": 3,
     "solution": false,
     "task": false
    }
   },
   "outputs": [],
   "source": [
    "answer = palindrome_strings([\"racecar\", \"hello\", \"level\", \"world\"])\n",
    "assert answer == [\"racecar\", \"level\"]"
   ]
  },
  {
   "cell_type": "markdown",
   "id": "672f09a1",
   "metadata": {
    "deletable": false,
    "editable": false,
    "id": "672f09a1",
    "nbgrader": {
     "cell_type": "markdown",
     "checksum": "458505deba62574caec00680dd1175a6",
     "grade": false,
     "grade_id": "dictionary",
     "locked": true,
     "schema_version": 3,
     "solution": false,
     "task": false
    }
   },
   "source": [
    "## Dictionary \n",
    "store pairs\tof data: key, value\n",
    "matches keys to values\n",
    "no order is guaranted"
   ]
  },
  {
   "cell_type": "markdown",
   "id": "f23dce1b",
   "metadata": {
    "deletable": false,
    "editable": false,
    "id": "f23dce1b",
    "nbgrader": {
     "cell_type": "markdown",
     "checksum": "cb701f4ca25866adfb390c4d27e11f6b",
     "grade": false,
     "grade_id": "cell-9b1fe482a2eaf58f",
     "locked": true,
     "schema_version": 3,
     "solution": false,
     "task": false
    }
   },
   "source": [
    "### Exercise 3: Top n used ranking (4points)\n",
    "You need to use the example shows in class(or below) to finish top_n_used_words function\n",
    "hint: recall last class list copy!"
   ]
  },
  {
   "cell_type": "code",
   "execution_count": null,
   "id": "a2d5d6f7",
   "metadata": {
    "deletable": false,
    "editable": false,
    "id": "a2d5d6f7",
    "nbgrader": {
     "cell_type": "code",
     "checksum": "b8ab77c3f04e280d8b1b0bff93c1b96d",
     "grade": false,
     "grade_id": "dictionary_of_a_song",
     "locked": true,
     "schema_version": 3,
     "solution": false,
     "task": false
    }
   },
   "outputs": [],
   "source": [
    "def lyrics_to_frequencies(lyrics):\n",
    "    myDict = {}\n",
    "    for word in lyrics:\n",
    "        if word in myDict:\n",
    "            myDict[word] += 1\n",
    "        else:\n",
    "            myDict[word] = 1\n",
    "    return myDict\n",
    "    \n",
    "#song lyrics    \n",
    "she_loves_you = ['she', 'loves', 'you', 'yeah', 'yeah', \n",
    "'yeah','she', 'loves', 'you', 'yeah', 'yeah', 'yeah',\n",
    "'she', 'loves', 'you', 'yeah', 'yeah', 'yeah',\n",
    "\n",
    "'you', 'think', \"you've\", 'lost', 'your', 'love',\n",
    "'well', 'i', 'saw', 'her', 'yesterday-yi-yay',\n",
    "\"it's\", 'you', \"she's\", 'thinking', 'of',\n",
    "'and', 'she', 'told', 'me', 'what', 'to', 'say-yi-yay',\n",
    "\n",
    "'she', 'says', 'she', 'loves', 'you',\n",
    "'and', 'you', 'know', 'that', \"can't\", 'be', 'bad',\n",
    "'yes', 'she', 'loves', 'you',\n",
    "'and', 'you', 'know', 'you', 'should', 'be', 'glad',\n",
    "\n",
    "'she', 'said', 'you', 'hurt', 'her', 'so',\n",
    "'she', 'almost', 'lost', 'her', 'mind',\n",
    "'and', 'now', 'she', 'says', 'she', 'knows',\n",
    "\"you're\", 'not', 'the', 'hurting', 'kind',\n",
    "\n",
    "'she', 'says', 'she', 'loves', 'you',\n",
    "'and', 'you', 'know', 'that', \"can't\", 'be', 'bad',\n",
    "'yes', 'she', 'loves', 'you',\n",
    "'and', 'you', 'know', 'you', 'should', 'be', 'glad',\n",
    "\n",
    "'oo', 'she', 'loves', 'you', 'yeah', 'yeah', 'yeah',\n",
    "'she', 'loves', 'you', 'yeah', 'yeah', 'yeah',\n",
    "'with', 'a', 'love', 'like', 'that',\n",
    "'you', 'know', 'you', 'should', 'be', 'glad',\n",
    "\n",
    "'you', 'know', \"it's\", 'up', 'to', 'you',\n",
    "'i', 'think', \"it's\", 'only', 'fair',\n",
    "'pride', 'can', 'hurt', 'you', 'too',\n",
    "'pologize', 'to', 'her',\n",
    "\n",
    "'Because', 'she', 'loves', 'you',\n",
    "'and', 'you', 'know', 'that', \"can't\", 'be', 'bad',\n",
    "'Yes', 'she', 'loves', 'you',\n",
    "'and', 'you', 'know', 'you', 'should', 'be', 'glad',\n",
    "\n",
    "'oo', 'she', 'loves', 'you', 'yeah', 'yeah', 'yeah',\n",
    "'she', 'loves', 'you', 'yeah', 'yeah', 'yeah',\n",
    "'with', 'a', 'love', 'like', 'that',\n",
    "'you', 'know', 'you', 'should', 'be', 'glad',\n",
    "'with', 'a', 'love', 'like', 'that',\n",
    "'you', 'know', 'you', 'should', 'be', 'glad',\n",
    "'with', 'a', 'love', 'like', 'that',\n",
    "'you', 'know', 'you', 'should', 'be', 'glad',\n",
    "'yeah', 'yeah', 'yeah',\n",
    "'yeah', 'yeah', 'yeah', 'yeah'\n",
    "]"
   ]
  },
  {
   "cell_type": "code",
   "execution_count": null,
   "id": "82dd383d",
   "metadata": {
    "deletable": false,
    "editable": false,
    "id": "82dd383d",
    "nbgrader": {
     "cell_type": "code",
     "checksum": "4d3a9c1daa6df1d3c7236d33becc3029",
     "grade": false,
     "grade_id": "dictionary_of_a_song_result",
     "locked": true,
     "schema_version": 3,
     "solution": false,
     "task": false
    }
   },
   "outputs": [],
   "source": [
    "lyrics_dictionary = lyrics_to_frequencies(she_loves_you)\n",
    "print(lyrics_dictionary)"
   ]
  },
  {
   "cell_type": "code",
   "execution_count": null,
   "id": "252b2e32",
   "metadata": {
    "deletable": false,
    "editable": false,
    "id": "252b2e32",
    "nbgrader": {
     "cell_type": "code",
     "checksum": "faec1d10dcaa976a75bea4101f6ade31",
     "grade": false,
     "grade_id": "dictionary_functions",
     "locked": true,
     "schema_version": 3,
     "solution": false,
     "task": false
    }
   },
   "outputs": [],
   "source": [
    "def most_common_words(freqs):\n",
    "    values = freqs.values()\n",
    "    best = max(freqs.values())\n",
    "    words = []\n",
    "    for k in freqs:\n",
    "        if freqs[k] == best:\n",
    "            words.append(k)\n",
    "    return (words, best)\n",
    "    "
   ]
  },
  {
   "cell_type": "code",
   "execution_count": null,
   "id": "d63a3800",
   "metadata": {
    "deletable": false,
    "id": "d63a3800",
    "nbgrader": {
     "cell_type": "code",
     "checksum": "b8812c8e49dceb13218f2530870296ef",
     "grade": false,
     "grade_id": "dictionary_functions_exercise",
     "locked": false,
     "schema_version": 3,
     "solution": true,
     "task": false
    }
   },
   "outputs": [],
   "source": [
    "def top_n_used_words(dictionary, n):\n",
    "    '''\n",
    "    top_n_used_words shows top 1~nth word and its frequency\n",
    "    \n",
    "    Parameter:\n",
    "        dictionary: a dictionary contain (string,frequency) type:dictionary\n",
    "        n : nth word (type:int)\n",
    "    \n",
    "    Return:\n",
    "        result: a list contain [(['string'],frequency), ...] (type:list)\n",
    "    '''\n",
    "    result = []\n",
    "    # YOUR CODE HERE\n",
    "    raise NotImplementedError()\n",
    "    return result"
   ]
  },
  {
   "cell_type": "code",
   "execution_count": null,
   "id": "fa5af66e",
   "metadata": {
    "deletable": false,
    "editable": false,
    "id": "fa5af66e",
    "nbgrader": {
     "cell_type": "code",
     "checksum": "73edffc854917f30b3de899b37539592",
     "grade": true,
     "grade_id": "cell-a4a3e7611c6ed34b",
     "locked": true,
     "points": 3,
     "schema_version": 3,
     "solution": false,
     "task": false
    }
   },
   "outputs": [],
   "source": [
    "assert top_n_used_words(lyrics_dictionary, 1) == [(['you'], 36)]\n",
    "assert top_n_used_words(lyrics_dictionary, 3) == [(['you'], 36), (['yeah'], 28), (['she'], 20)]"
   ]
  },
  {
   "cell_type": "markdown",
   "id": "9745338d",
   "metadata": {
    "id": "9745338d"
   },
   "source": [
    "## Recuirsion"
   ]
  },
  {
   "cell_type": "markdown",
   "id": "594dd208",
   "metadata": {
    "deletable": false,
    "editable": false,
    "id": "594dd208",
    "nbgrader": {
     "cell_type": "markdown",
     "checksum": "6d0f07929590092c70e0db0580858f66",
     "grade": false,
     "grade_id": "gcd_lcm_intro",
     "locked": true,
     "schema_version": 3,
     "solution": false,
     "task": false
    }
   },
   "source": [
    "### Exercise 4: 最大公因數gcd 最小公倍數lcm(2points / 2points)\n",
    "\n",
    "利用輾轉相除法重複執行的概念完成gcd()\n",
    "再利用gcd()來求出最小公倍數lcm()"
   ]
  },
  {
   "cell_type": "code",
   "execution_count": null,
   "id": "4c96afcd",
   "metadata": {
    "deletable": false,
    "id": "4c96afcd",
    "nbgrader": {
     "cell_type": "code",
     "checksum": "356a8fb397d260e9458d74f5bf181965",
     "grade": false,
     "grade_id": "gcd_exercise",
     "locked": false,
     "schema_version": 3,
     "solution": true,
     "task": false
    }
   },
   "outputs": [],
   "source": [
    "def gcd(a,b):\n",
    "    '''\n",
    "    gcd(): greatest common divisor\n",
    "    for two or more integers, which are not all zero, gcd is the largest positive integer that divides each of the integers.\n",
    "    \n",
    "    Parameter:\n",
    "        a, b: two positive number (type:int)\n",
    "    \n",
    "    Return: \n",
    "        greatest common divisor of a, b (type:int)\n",
    "    '''\n",
    "    # YOUR CODE HERE\n",
    "    raise NotImplementedError()"
   ]
  },
  {
   "cell_type": "code",
   "execution_count": null,
   "id": "6c89c694",
   "metadata": {
    "deletable": false,
    "editable": false,
    "id": "6c89c694",
    "nbgrader": {
     "cell_type": "code",
     "checksum": "cf9a9ee52ce80da37daa73a6d5882321",
     "grade": true,
     "grade_id": "gcd_test",
     "locked": true,
     "points": 2,
     "schema_version": 3,
     "solution": false,
     "task": false
    }
   },
   "outputs": [],
   "source": [
    "assert gcd(10, 5) == 5\n",
    "assert gcd(72, 96) == 24\n"
   ]
  },
  {
   "cell_type": "code",
   "execution_count": null,
   "id": "36c262c3",
   "metadata": {
    "deletable": false,
    "id": "36c262c3",
    "nbgrader": {
     "cell_type": "code",
     "checksum": "3d0d83b56d64e509fd3190f6b52d0a52",
     "grade": false,
     "grade_id": "lcm_exercise",
     "locked": false,
     "schema_version": 3,
     "solution": true,
     "task": false
    }
   },
   "outputs": [],
   "source": [
    "def lcm(a,b):\n",
    "    '''\n",
    "    lcm(): Least Common Multiple\n",
    "    the smallest positive integer that is evenly divisible by both a and b\n",
    "    \n",
    "    Parameter:\n",
    "        a, b: two positive number (type:int)\n",
    "    \n",
    "    Return: \n",
    "        Least Common Multiple of a, b (type:int)\n",
    "    '''\n",
    "   \n",
    "    # YOUR CODE HERE\n",
    "    raise NotImplementedError()"
   ]
  },
  {
   "cell_type": "code",
   "execution_count": null,
   "id": "de8573cb",
   "metadata": {
    "deletable": false,
    "editable": false,
    "id": "de8573cb",
    "nbgrader": {
     "cell_type": "code",
     "checksum": "13c27948c03dd0f172b618a1211cfddc",
     "grade": true,
     "grade_id": "lcm_test",
     "locked": true,
     "points": 1,
     "schema_version": 3,
     "solution": false,
     "task": false
    }
   },
   "outputs": [],
   "source": [
    "assert lcm(10,5) == 10\n",
    "assert lcm(72,96) == 288"
   ]
  },
  {
   "cell_type": "markdown",
   "id": "c08219dd",
   "metadata": {
    "deletable": false,
    "editable": false,
    "id": "c08219dd",
    "nbgrader": {
     "cell_type": "markdown",
     "checksum": "9d895a141dc67581aa3d599e51e94744",
     "grade": false,
     "grade_id": "jumpcell_intro",
     "locked": true,
     "schema_version": 3,
     "solution": false,
     "task": false
    }
   },
   "source": [
    "### Exercise 5: Hopscotch(跳格子) (2points)\n",
    "\n",
    "only one rule if you choose one number you can't choose its neighbors\n",
    "\n",
    "Ex: \n",
    "\n",
    "1.input [5,3,2,4,6] output 13 (5+2+6)\n",
    "\n",
    "2.input [1,4,2,1] output 5 (4+1)\n",
    "\n",
    "3.input [5,1,3,7] output 12 (5+7)\n"
   ]
  },
  {
   "cell_type": "code",
   "execution_count": null,
   "id": "433b15b9",
   "metadata": {
    "deletable": false,
    "id": "433b15b9",
    "nbgrader": {
     "cell_type": "code",
     "checksum": "42dbbd783317bed1703d9377a654a41c",
     "grade": false,
     "grade_id": "jumpcell",
     "locked": false,
     "schema_version": 3,
     "solution": true,
     "task": false
    }
   },
   "outputs": [],
   "source": [
    "def score(list_of_number):\n",
    "    '''\n",
    "    score is a function to answer the highest score of a Hopscotch game\n",
    "    \n",
    "    Parameter:\n",
    "    list_of_number: input a none empty list (type:list)\n",
    "    \n",
    "    Return:\n",
    "    the hightest score of the Hopscotch list (type:int)\n",
    "    \n",
    "    '''\n",
    "    # YOUR CODE HERE\n",
    "    raise NotImplementedError()"
   ]
  },
  {
   "cell_type": "code",
   "execution_count": null,
   "id": "08ca8c1f",
   "metadata": {
    "deletable": false,
    "editable": false,
    "id": "08ca8c1f",
    "nbgrader": {
     "cell_type": "code",
     "checksum": "27c74fd079e2e55b1e03ab5008ef32b4",
     "grade": true,
     "grade_id": "jumpcell_ans",
     "locked": true,
     "points": 2,
     "schema_version": 3,
     "solution": false,
     "task": false
    }
   },
   "outputs": [],
   "source": [
    "list0 = [1,3]\n",
    "print(score(list0))\n",
    "assert score(list0) == 3\n",
    "\n",
    "list1 = [5,3,2,4,6]\n",
    "print(score(list1))\n",
    "assert score(list1) == 13\n",
    "\n",
    "list2 = [1,4,2,1]\n",
    "print(score(list2))\n",
    "assert score(list2) == 5\n",
    "\n",
    "list3 = [5,1,3,7]\n",
    "print(score(list3))\n",
    "assert score(list3) == 12"
   ]
  }
 ],
 "metadata": {
  "colab": {
   "provenance": [],
   "toc_visible": true
  },
  "kernelspec": {
   "display_name": "Python 3 (ipykernel)",
   "language": "python",
   "name": "python3"
  },
  "language_info": {
   "codemirror_mode": {
    "name": "ipython",
    "version": 3
   },
   "file_extension": ".py",
   "mimetype": "text/x-python",
   "name": "python",
   "nbconvert_exporter": "python",
   "pygments_lexer": "ipython3",
   "version": "3.8.10"
  }
 },
 "nbformat": 4,
 "nbformat_minor": 5
}
