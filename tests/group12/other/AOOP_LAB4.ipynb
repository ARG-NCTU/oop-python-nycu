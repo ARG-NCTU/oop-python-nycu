{
 "cells": [
  {
   "cell_type": "markdown",
   "id": "4e3dfdef-1852-49bc-ba62-356c74d96f26",
   "metadata": {},
   "source": [
    "## Task1 "
   ]
  },
  {
   "cell_type": "code",
   "execution_count": 51,
   "id": "2fee9a04-e3aa-4807-9db9-bc55bdc3bdb2",
   "metadata": {},
   "outputs": [
    {
     "name": "stdout",
     "output_type": "stream",
     "text": [
      "2454396148032\n",
      "2454404055760\n",
      "2454404025344\n",
      "2454404029952\n",
      "Feeding Tiger, it says Grr\n",
      "Feeding Monkey, it says Oooh\n"
     ]
    }
   ],
   "source": [
    "import copy\n",
    "class Animal:\n",
    "    def __init__(self, name, sound):\n",
    "        self.name = name\n",
    "        self.sound = sound\n",
    "    def speak(self):\n",
    "        return self.sound\n",
    "    def __eq__(self, other):\n",
    "        return id(self) == id(other)\n",
    "        \n",
    "class Zookeeper:\n",
    "    def __init__(self, animals=[]):  \n",
    "        self.animals = copy.deepcopy(animals)\n",
    "        # self.animals = animals\n",
    "    \n",
    "    def add_animal(self, animal):\n",
    "        if animal not in self.animals:\n",
    "            self.animals.append(animal)\n",
    "    \n",
    "    def feed_all(self):\n",
    "        for a in self.animals:\n",
    "            print(f\"Feeding {a.name}, it says {a.speak()}\")\n",
    "\n",
    "z1 = Zookeeper()\n",
    "z2 = Zookeeper()\n",
    "\n",
    "print(id(z1))\n",
    "print(id(z2))\n",
    "print(id(z1.animals))\n",
    "print(id(z2.animals))\n",
    "\n",
    "animal1 = Animal(\"Tiger\", \"Grr\")\n",
    "animal2 = Animal(\"Monkey\", \"Oooh\")\n",
    "z1.add_animal(animal1)\n",
    "z2.add_animal(animal2)\n",
    "z1.add_animal(animal1)\n",
    "z2.add_animal(animal2)\n",
    "z1.add_animal(animal1)\n",
    "z2.add_animal(animal2)\n",
    "z1.feed_all()\n",
    "z2.feed_all()\n"
   ]
  },
  {
   "cell_type": "markdown",
   "id": "bfcf9576-15f0-4b21-9417-6f7e8adda672",
   "metadata": {},
   "source": [
    "## TASK 2 "
   ]
  },
  {
   "cell_type": "code",
   "execution_count": 52,
   "id": "e984f1a1-52ac-4f6d-8a42-22eab9b5508d",
   "metadata": {},
   "outputs": [
    {
     "name": "stdout",
     "output_type": "stream",
     "text": [
      "6\n"
     ]
    }
   ],
   "source": [
    "class Lion:\n",
    "    def __init__(self, name, age):\n",
    "        breakpoint()\n",
    "        self.name = name\n",
    "        self.age = int(age)\n",
    "    \n",
    "    def speak(self):\n",
    "        return \"Roar!\"\n",
    "\n",
    "lion = Lion(\"Simba\", \"5\")   \n",
    "print(lion.age + 1)            \n"
   ]
  },
  {
   "cell_type": "markdown",
   "id": "5dc00048-3833-4150-ae5d-9d0bb9dd9546",
   "metadata": {},
   "source": [
    "## TASK3"
   ]
  },
  {
   "cell_type": "code",
   "execution_count": 53,
   "id": "d3049660-578a-4454-8592-b534d25d8fe6",
   "metadata": {},
   "outputs": [
    {
     "name": "stdout",
     "output_type": "stream",
     "text": [
      "80.0\n"
     ]
    }
   ],
   "source": [
    "class Ticket:\n",
    "    def __init__(self, price: float):\n",
    "        self.price = price\n",
    "    \n",
    "    def apply_discount(self, percent: float):\n",
    "        self.price = self.price * (1 - percent)\n",
    "        return self.price\n",
    "\n",
    "ticket = Ticket(100)\n",
    "print(ticket.apply_discount(0.2))  "
   ]
  },
  {
   "cell_type": "code",
   "execution_count": null,
   "id": "7c7a9342-f2b8-4085-b8dc-e25b645cfa2d",
   "metadata": {},
   "outputs": [],
   "source": []
  }
 ],
 "metadata": {
  "kernelspec": {
   "display_name": "Python 3 (ipykernel)",
   "language": "python",
   "name": "python3"
  },
  "language_info": {
   "codemirror_mode": {
    "name": "ipython",
    "version": 3
   },
   "file_extension": ".py",
   "mimetype": "text/x-python",
   "name": "python",
   "nbconvert_exporter": "python",
   "pygments_lexer": "ipython3",
   "version": "3.13.2"
  }
 },
 "nbformat": 4,
 "nbformat_minor": 5
}
