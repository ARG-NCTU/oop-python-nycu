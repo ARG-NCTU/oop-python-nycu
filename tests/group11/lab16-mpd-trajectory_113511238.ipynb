{
 "cells": [
  {
   "cell_type": "markdown",
   "id": "9175fbe4",
   "metadata": {},
   "source": [
    "# USV/UAV Trajectory Analysis\n",
    "\n",
    "This is the supplementary materials for CuRL-Transfer project.\n",
    "\n",
    "CSV formate:\n",
    "* Follow movingpandas examples (X, Y, t, trajectory_id, ...)\n",
    "* Framerate: 10 fps\n",
    "* TODO crs\n",
    "* TODO overlay a background (geo image or other background?)\n"
   ]
  },
  {
   "cell_type": "code",
   "execution_count": null,
   "id": "12edc7bb",
   "metadata": {},
   "outputs": [],
   "source": [
    "import pandas as pd\n",
    "import geopandas as gpd\n",
    "from geopandas import GeoDataFrame, read_file\n",
    "from shapely.geometry import Point, LineString\n",
    "import numpy as np\n",
    "\n",
    "import sys\n",
    "sys.path.append(\"..\")\n",
    "import movingpandas as mpd\n",
    "# mpd.show_versions()\n",
    "\n",
    "from datetime import datetime\n",
    "\n",
    "import warnings\n",
    "warnings.simplefilter(\"ignore\")\n",
    "import matplotlib.pyplot as plt"
   ]
  },
  {
   "cell_type": "markdown",
   "id": "8a4ed663",
   "metadata": {},
   "source": [
    "## Reading CSVs\n",
    "\n",
    "read csv into\n",
    "1. wamvs: dictionary of GeoDataFrame\n",
    "2. trajs: dictionary of Trajectory"
   ]
  },
  {
   "cell_type": "code",
   "execution_count": null,
   "id": "4288aabd",
   "metadata": {},
   "outputs": [],
   "source": [
    "boats = ['wamv1', 'wamv2', 'wamv3', 'wamv4', 'wamv5']\n",
    "wamvs = {}\n",
    "trajs = {}\n",
    "\n",
    "for boat in boats:\n",
    "    df = pd.read_csv('data/bory_boat/' + boat + '_gps.csv', delimiter=',')\n",
    "    df['t'] = pd.to_datetime(df['t'], unit='ns')\n",
    "    wamv = df[['X', 'Y', 'trajectory_id', 't']]\n",
    "    wamv['geometry'] = df.apply(lambda row: Point(row['X'], row['Y']), axis=1)\n",
    "\n",
    "    gdf = gpd.GeoDataFrame(wamv, geometry='geometry', crs='EPSG:4326')\n",
    "    gdf = gdf.to_crs(epsg=32649) # Convert to UTM zone 49N for Taiwan\n",
    "\n",
    "    trajs[boat] = mpd.Trajectory(gdf, 'trajectory_id', t='t')\n",
    "    wamvs[boat] = gdf"
   ]
  },
  {
   "cell_type": "code",
   "execution_count": null,
   "id": "abf0095b",
   "metadata": {},
   "outputs": [],
   "source": [
    "wamvs['wamv1']"
   ]
  },
  {
   "cell_type": "markdown",
   "id": "7277f833",
   "metadata": {},
   "source": [
    "## GeoPandas"
   ]
  },
  {
   "cell_type": "code",
   "execution_count": null,
   "id": "a6c291d1",
   "metadata": {},
   "outputs": [],
   "source": [
    "merged_gdf = pd.concat([wamvs['wamv1'], wamvs['wamv2'], wamvs['wamv3'], wamvs['wamv4'], wamvs['wamv5']], axis=0)\n",
    "merged_gdf"
   ]
  },
  {
   "cell_type": "markdown",
   "id": "d9358695",
   "metadata": {},
   "source": [
    "## MovingPandas"
   ]
  },
  {
   "cell_type": "markdown",
   "id": "b9054359",
   "metadata": {},
   "source": [
    "documentation : https://movingpandas.readthedocs.io/en/main/trajectorycollection.html"
   ]
  },
  {
   "cell_type": "markdown",
   "id": "97409772",
   "metadata": {},
   "source": [
    "### speed "
   ]
  },
  {
   "cell_type": "code",
   "execution_count": null,
   "id": "4ebfd42f",
   "metadata": {},
   "outputs": [],
   "source": [
    "traj_collection = mpd.TrajectoryCollection(merged_gdf, 'trajectory_id', t='t')\n",
    "traj_collection.add_speed()"
   ]
  },
  {
   "cell_type": "code",
   "execution_count": null,
   "id": "a22613a8",
   "metadata": {},
   "outputs": [],
   "source": [
    "traj_collection.get_max('speed')"
   ]
  },
  {
   "cell_type": "code",
   "execution_count": null,
   "id": "5df75208",
   "metadata": {},
   "outputs": [],
   "source": [
    "traj_collection.plot(column='speed', legend=True, figsize=(9,5))"
   ]
  },
  {
   "cell_type": "markdown",
   "id": "9460565f",
   "metadata": {},
   "source": [
    "## direction"
   ]
  },
  {
   "cell_type": "code",
   "execution_count": null,
   "id": "1003441c",
   "metadata": {},
   "outputs": [],
   "source": [
    "traj_collection.add_direction()\n",
    "traj_collection.plot(column='direction', legend=True, figsize=(9,5))"
   ]
  },
  {
   "cell_type": "markdown",
   "id": "65b7c336",
   "metadata": {},
   "source": [
    "## location"
   ]
  },
  {
   "cell_type": "code",
   "execution_count": null,
   "id": "0a27c737",
   "metadata": {},
   "outputs": [],
   "source": [
    "traj_collection.get_start_locations()"
   ]
  },
  {
   "cell_type": "code",
   "execution_count": null,
   "id": "abf68bed",
   "metadata": {},
   "outputs": [],
   "source": [
    "\n",
    "traj_collection.get_end_locations()"
   ]
  },
  {
   "cell_type": "markdown",
   "id": "9b42ae41",
   "metadata": {},
   "source": [
    "## segments between times"
   ]
  },
  {
   "cell_type": "code",
   "execution_count": null,
   "id": "91be187f",
   "metadata": {},
   "outputs": [],
   "source": [
    "t1 = datetime(1970,1,1,0,14,14)\n",
    "t2 = datetime(1970,1,1,0,15,44)\n",
    "traj_collection.get_segments_between(t1, t2).plot(column='speed', legend=True, figsize=(9,5))"
   ]
  },
  {
   "cell_type": "markdown",
   "id": "4b63fba7",
   "metadata": {},
   "source": [
    "# Demos"
   ]
  },
  {
   "cell_type": "markdown",
   "id": "0fb960cc",
   "metadata": {},
   "source": [
    "## Demo1: total distance and avg speed\n",
    "\n",
    "compute the total distance and average speed of each trajectory."
   ]
  },
  {
   "cell_type": "code",
   "execution_count": null,
   "id": "6856e6eb",
   "metadata": {},
   "outputs": [],
   "source": [
    "summary = []\n",
    "for traj in traj_collection.trajectories:\n",
    "    #############  code below  #############\n",
    "    # Hint: avg_speed = length / duration\n",
    "\n",
    "    #############  code above  #############\n",
    "    summary.append({\n",
    "        \"trajectory_id\": traj.id,\n",
    "        \"total_distance(m)\": length,\n",
    "        \"avg_speed(m/s)\": avg_speed,\n",
    "    })\n",
    "\n",
    "summary_df = pd.DataFrame(summary)\n",
    "print(summary_df)"
   ]
  },
  {
   "cell_type": "markdown",
   "id": "75619c08",
   "metadata": {},
   "source": [
    "## Demo2: Mark all the stop points on plot\n",
    "\n",
    "mark all point whose speed < 0.1 m/s with red dot"
   ]
  },
  {
   "cell_type": "code",
   "execution_count": null,
   "id": "8a861ae8",
   "metadata": {},
   "outputs": [],
   "source": [
    "fig, ax = plt.subplots(figsize=(10, 8))\n",
    "for traj in traj_collection.trajectories:\n",
    "    traj.plot(ax=ax, linewidth=2, alpha=0.7, label=traj.id)\n",
    "    #############  code below  #############\n",
    "    # Hint: Chat-GPT -> get points with speed < 0.1 m/s, save to GeoSeries\n",
    "\n",
    "    #############  code above  #############\n",
    "\n",
    "ax.legend()\n",
    "plt.title('Trajectory with low-speed points (speed < 0.1 m/s)')\n",
    "plt.show()"
   ]
  },
  {
   "cell_type": "markdown",
   "id": "4f0568a0",
   "metadata": {},
   "source": [
    "## Demo3: Mark all the turning point on plot\n",
    "\n",
    "Mark all the turning point (direction change > 45 degrees & move < 2 meters within 5 tracked point)"
   ]
  },
  {
   "cell_type": "code",
   "execution_count": null,
   "id": "7ef422dd",
   "metadata": {},
   "outputs": [],
   "source": [
    "fig, ax = plt.subplots(figsize=(10, 8))\n",
    "turning_points = {}\n",
    "TURN_ANGLE_THRESHOLD = 45\n",
    "MOVE_DISTANCE_THRESHOLD = 2\n",
    "SHIFT = 5\n",
    "\n",
    "for traj in traj_collection.trajectories:\n",
    "    #############  code below  #############\n",
    "    # Hint: calculate shifted geometry and direction, then find turning points and store them in a GeoSeries\n",
    "\n",
    "    #############  code above  #############\n",
    "\n",
    "ax.legend()\n",
    "plt.title('Trajectories with turning points (direction change > 45 degrees)')\n",
    "plt.xlabel(\"Easting (m)\")\n",
    "plt.ylabel(\"Northing (m)\")\n",
    "plt.show()\n"
   ]
  }
 ],
 "metadata": {
  "kernelspec": {
   "display_name": "Python 3",
   "language": "python",
   "name": "python3"
  },
  "language_info": {
   "codemirror_mode": {
    "name": "ipython",
    "version": 3
   },
   "file_extension": ".py",
   "mimetype": "text/x-python",
   "name": "python",
   "nbconvert_exporter": "python",
   "pygments_lexer": "ipython3",
   "version": "3.8.10"
  }
 },
 "nbformat": 4,
 "nbformat_minor": 5
}
